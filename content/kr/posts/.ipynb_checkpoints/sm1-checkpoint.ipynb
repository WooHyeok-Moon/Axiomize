{
 "cells": [
  {
   "cell_type": "markdown",
   "id": "fae63e6d-61cd-4bf8-8033-88ca53ea1e30",
   "metadata": {
    "tags": []
   },
   "source": [
    "---\n",
    "author: \"Woohyeok Moon\"\n",
    "date: 2024-01-25\n",
    "title: 표본공간과 사건\n",
    "categories: 수리통계학\n",
    "tags: [표본공간, 사건]\n",
    "showtoc: false\n",
    "weight: 10\n",
    "---"
   ]
  },
  {
   "cell_type": "markdown",
   "id": "d6579fb3-e11c-440c-a39b-788617618844",
   "metadata": {},
   "source": [
    "## 키워드"
   ]
  },
  {
   "cell_type": "markdown",
   "id": "d8f168d9-6c7c-46a8-9db4-1ffc37c2501d",
   "metadata": {},
   "source": [
    "- 실험: 어떤 현상의 관찰결과를 얻기 위한 과정\n",
    "- 표본공간($S$): 모든 관찰 가능한 결과의 집합\n",
    "- 사건: 표본공간의 부분집합"
   ]
  },
  {
   "cell_type": "markdown",
   "id": "cdc3a3f3-b1cd-4d2b-b927-8c35da3e1b7b",
   "metadata": {},
   "source": [
    "## 정의"
   ]
  },
  {
   "cell_type": "markdown",
   "id": "a7c52809-bf44-4d9a-b7a5-eace0a40f686",
   "metadata": {},
   "source": [
    "### 1)\n",
    "\n",
    "사건 $A$와 $B$가 표본공간 $S$상에 정의되었다고 하자.\n",
    "- 사건 $A$와 $B$가 동시에 속하는 사건을 $A$와 $B$의 공통부분이라고 하고 $A \\cap B$라고 표기한다.\n",
    "- 사건 $A$ 또는 $B$에 속하는 사건을 $A$와 $B$의 합이라고 하고 $A \\cup B$로 표기한다."
   ]
  },
  {
   "cell_type": "markdown",
   "id": "f974efb4-e1b3-42a6-a022-650c25b230ab",
   "metadata": {},
   "source": [
    "## 예시"
   ]
  },
  {
   "cell_type": "markdown",
   "id": "4f1fcc63-144b-4276-9439-dfe6a991b079",
   "metadata": {},
   "source": [
    "### 1)"
   ]
  },
  {
   "cell_type": "markdown",
   "id": "73a9b648-3584-464e-98e0-2d69ad2f084f",
   "metadata": {},
   "source": [
    "동전을 3회 던지는 실험에서 앞면을 $H$, 뒷면을 $T$로 표시하면 표본공간은\n",
    "$$\n",
    "S = \\{\\ HHH,\\ HHT,\\ HTH,\\ THH,\\ HTT,\\ THT,\\ TTH,\\ TTT\\ \\}\n",
    "$$\n",
    "이고, '2회 앞면이 나오는 사건'은\n",
    "$$\n",
    "A = \\{\\ HHT,\\ HTH,\\ THH\\ \\}\n",
    "$$\n",
    "이다."
   ]
  },
  {
   "cell_type": "markdown",
   "id": "3adc7473-1284-47c6-894e-91de79a59a97",
   "metadata": {},
   "source": [
    "### 2)\n",
    "\n",
    "[예 1)](#1\\))의 실험에서 '앞면이 나오는 횟수'를 고려하면 표본공간은\n",
    "$$\n",
    "S = \\{\\ 0,\\ 1,\\ 2,\\ 3\\ \\}\n",
    "$$\n",
    "이 되고, 이때 '최소한 1번 앞면이 나오는 사건'은\n",
    "$$\n",
    "A = \\{\\ 1,\\ 2,\\ 3\\ \\}\n",
    "$$\n",
    "이다."
   ]
  },
  {
   "cell_type": "markdown",
   "id": "61987db2-b4ee-4079-ac7d-a4eaf4aa83db",
   "metadata": {},
   "source": [
    "### 3)\n",
    "\n",
    "한 개의 동전을 뒷면이 나올 떄까지 던질 때의 표본공간은\n",
    "$$\n",
    "S = \\{\\ T,\\ HT,\\ HHT,\\ HHHT,\\ \\cdots\\ \\}\n",
    "$$\n",
    "가 된다. 이처럼 표본공간의 원소가 무한개일 수도 있다. 이때 '3회째 뒷면이 나오는 사건'은\n",
    "$$\n",
    "A = \\{\\ HHT\\ \\}\n",
    "$$\n",
    "이다."
   ]
  },
  {
   "cell_type": "markdown",
   "id": "37634900-bf43-494f-a2f0-6e9dfca568f1",
   "metadata": {},
   "source": [
    "### 4)\n",
    "\n",
    "어떤 기계의 수명시간에 대한 측정을 할 때, 가능한 관찰값은 음이 아닌 실수이다. 따라서 표본공간은\n",
    "$$\n",
    "S = \\{\\ x\\ |\\ 0\\ \\le\\  x\\ < \\infty\\ \\}\n",
    "$$\n",
    "여기서 '20시간 이상 작동하는 사건'은\n",
    "$$\n",
    "A = \\{\\ x\\ |\\ x\\ \\ge\\ 20 \\ \\}\n",
    "$$\n",
    "이다."
   ]
  },
  {
   "cell_type": "markdown",
   "id": "59a0c320-d67a-4b54-9144-d23bd1030c97",
   "metadata": {},
   "source": [
    "### 5)\n",
    "\n",
    "주사위를 1회 던져 나오는 눈의 수를 관찰하였다고 할 때, 표본공간은\n",
    "$$ S = \\{\\ 1,\\ 2,\\ 3,\\ 4,\\ 5,\\ 6,\\ \\}$$\n",
    "이 된다. 사건 $A$를 짝수의 눈이 나오는 경우로, $B$를 3의 배수가 나오는 경우로 정의하면,\n",
    "$$ A = \\{\\ 2,\\ 4,\\ 6\\ \\}\\quad B = \\{\\ 3,\\ 6\\ \\} $$\n",
    "으로 표현된다. 이 경우 $A$와 $B$의 공통부분과 합은 각각\n",
    "$$\n",
    "\\begin{align}\n",
    "A \\cap B = \\{\\ 6\\ \\} \\\\\n",
    "A \\cup B = \\{\\ 2,\\ 3,\\ 4,\\ 6\\ \\}\n",
    "\\end{align}\n",
    "$$\n",
    "\n"
   ]
  },
  {
   "cell_type": "code",
   "execution_count": null,
   "id": "c30e4a41-e1b6-4bed-8727-25f9ee614262",
   "metadata": {},
   "outputs": [],
   "source": []
  }
 ],
 "metadata": {
  "kernelspec": {
   "display_name": "Python 3 (ipykernel)",
   "language": "python",
   "name": "python3"
  },
  "language_info": {
   "codemirror_mode": {
    "name": "ipython",
    "version": 3
   },
   "file_extension": ".py",
   "mimetype": "text/x-python",
   "name": "python",
   "nbconvert_exporter": "python",
   "pygments_lexer": "ipython3",
   "version": "3.9.18"
  }
 },
 "nbformat": 4,
 "nbformat_minor": 5
}
