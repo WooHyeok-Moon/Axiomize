{
 "cells": [
  {
   "cell_type": "markdown",
   "id": "ed998587-e1dc-47a4-9c4e-aa075f5d3034",
   "metadata": {
    "tags": []
   },
   "source": [
    "---\n",
    "author: \"Woohyeok Moon\"\n",
    "date: 2024-02-06\n",
    "title: 확률의 정의\n",
    "categories: 수리통계학\n",
    "tags: [확률]\n",
    "showtoc: false\n",
    "weight: 10\n",
    "---"
   ]
  },
  {
   "cell_type": "markdown",
   "id": "a24f00fd-0be6-4b31-b067-aad494edb948",
   "metadata": {},
   "source": [
    "러시아의 수학자 콜모고로프(Andrei Kolmogorov, 1903~1987)는 확률을 공리적으로 정의하고자 하였으며 다음과 같은 공리가 확률을 정의하는 필요충분조건이 됨을 보였다."
   ]
  },
  {
   "cell_type": "markdown",
   "id": "505e9ce6-acfb-4bb3-819b-596a591d4830",
   "metadata": {},
   "source": [
    "### 확률의 공리\n",
    "\n",
    "(1) 임의의 사건 $A$에 대하여 $P(A) \\ge 0$이다.  \n",
    "(2) $P(S) = 1$이다.  \n",
    "(3) 표본공간 $S$에 정의된 사건열 $A_1, A_2, \\cdots$ 가 있다고 하자. 이제 모든 $i \\ne j$에 대하여 $A_i \\cap A_j = \\varnothing$ 이면 $P(\\displaystyle\\bigcup_{i=1}^{\\infty}A_i = \\displaystyle\\sum_{i=1}^{\\infty}P(A_i)$이다."
   ]
  },
  {
   "cell_type": "markdown",
   "id": "12f0e5fd-81c8-4e19-9701-4c5202beefa4",
   "metadata": {},
   "source": [
    "### 정리 1.1\n",
    "두 개의 사건 $A$와 $B$에 대하여 다음과 같은 성질들이 성립한다.  \n",
    "1) $P(A^c) = 1 - P(A)$  \n",
    "2) $P(\\varnothing) = 0$  \n",
    "3) $A \\subset B$이면 $P(A) \\le P(B)$이다.  \n",
    "4) $P(A \\cup B) = P(A) + P(B) - P(A \\cap B)$"
   ]
  },
  {
   "cell_type": "markdown",
   "id": "bc4e3217-d480-48ef-86c9-21ad4b90bf61",
   "metadata": {
    "tags": []
   },
   "source": [
    "### 증명  \n",
    "1) $1 = P(S) = P(A \\cup A^c) = P(A) + P(A_c) (\\because$ 공리 (3))  \n",
    "2) $0 = 1 - P(S) = P(S^c) = P(\\varnothing) (\\because$ 공리 (2)와 (1))  \n",
    "3) $B = A \\cup (B \\cap A^c)$로 나타낼 수 있으며, $A \\cap (B \\cap A^c) = \\varnothing$이므로 공리 (1)과 (3)에 의해\n",
    "$$\n",
    "\\\\\\\n",
    "P(B) = P(A) + P(B \\cap A^c) \\ge P(A)\n",
    "\\\\\\\n",
    "$$\n",
    "가 성립한다.  \n",
    "4) $P(A) = P(A \\cap B^c) + P(A \\cap B), \\quad P(B) = P(B \\cap A^c) + P(A \\cap B)$"
   ]
  },
  {
   "cell_type": "markdown",
   "id": "77e67975-079f-4691-8141-daba893b4e7f",
   "metadata": {},
   "source": [
    "### `예 1.8`\n",
    "[예 1.1](https://woohyeok-moon.github.io/posts/sm1/#%EC%98%88-11)의 실험에서 표본공간 $S$에 속한 8개의 점들이 모두 같은 확률 $\\frac{1}{8}$을 가졌다고 가정하고, 최소한 1개의 앞면이 나오는 사건을 $A$, 꼭 2개의 앞면이 나오는 사건을 $B$, 그리고 첫 번째 동전이 앞면이 나오는 사건을 $C$라고 하자. 그러면, $A$의 여사건은 $A^c = {TTT}$가 되며\n",
    "$$\n",
    "\\begin{align}\n",
    "P(A) = 1 - P(A^c) = 1 - \\frac{1}{8} = \\frac{7}{8}\n",
    "\\end{align}\n",
    "$$\n",
    "이 된다. 또\n",
    "$$\n",
    "\\begin{align}\n",
    "P(B \\cup C) = P(\\{HHH, HHT, HTH, THH, HTT\\}) = \\frac{5}{8}\n",
    "\\end{align}\n",
    "$$\n",
    "인데, 이는\n",
    "$$\n",
    "\\begin{align}\n",
    "\\begin{split}\n",
    "P(\\{HHT, HTH, THH\\}) &+ P(\\{HHH, HHT, HTH, HTT\\})\\\\\\\n",
    "&- P(\\{HHT, HTH\\})\\\\\\\n",
    "&= \\frac{3}{8} + \\frac{4}{8} - \\frac{2}{8} = \\frac{5}{8}\n",
    "\\end{split}\n",
    "\\end{align}\n",
    "$$\n",
    "와 같이 구할 수도 있다."
   ]
  },
  {
   "cell_type": "code",
   "execution_count": null,
   "id": "005ecc19-4847-4017-afbb-e68d5f1c250d",
   "metadata": {},
   "outputs": [],
   "source": []
  }
 ],
 "metadata": {
  "kernelspec": {
   "display_name": "Python 3 (ipykernel)",
   "language": "python",
   "name": "python3"
  },
  "language_info": {
   "codemirror_mode": {
    "name": "ipython",
    "version": 3
   },
   "file_extension": ".py",
   "mimetype": "text/x-python",
   "name": "python",
   "nbconvert_exporter": "python",
   "pygments_lexer": "ipython3",
   "version": "3.8.17"
  }
 },
 "nbformat": 4,
 "nbformat_minor": 5
}
