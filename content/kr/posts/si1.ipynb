{
 "cells": [
  {
   "cell_type": "markdown",
   "id": "9f0e365a-93a8-4d00-a73f-b3ae553428f2",
   "metadata": {
    "tags": []
   },
   "source": [
    "---\n",
    "author: \"Woohyeok Moon\"\n",
    "date: 2024-03-14\n",
    "title: 환경 데이터 종류\n",
    "categories: 환경 빅데이터 분석 및 통계 추론\n",
    "tags: [time-series data, spatial data, spatio-temporal data]\n",
    "showtoc: false\n",
    "weight: 10\n",
    "---"
   ]
  },
  {
   "cell_type": "markdown",
   "id": "19576379-d1eb-474a-b94d-86f74a9a062b",
   "metadata": {},
   "source": [
    "# Basics of Environmental Data"
   ]
  },
  {
   "cell_type": "markdown",
   "id": "fcf42288-3e1a-4c36-9473-cdeab36b8c4b",
   "metadata": {},
   "source": [
    "## 1) 환경 데이터 특징"
   ]
  },
  {
   "cell_type": "markdown",
   "id": "bae6d270-120c-4989-8cbc-70d47bf55f5b",
   "metadata": {},
   "source": [
    "### 1.1) 시계열 데이터 (Time-series data)"
   ]
  },
  {
   "cell_type": "markdown",
   "id": "540a583c-eab6-4fe8-9f09-c107ca5ebd6f",
   "metadata": {},
   "source": [
    "continous한 시간 간격에 따른 데이터. 시간, 일 또는 월 별 데이터와 같이 규칙적일 수도 있고, interval 자체가 불규칙적일 수도 있다."
   ]
  },
  {
   "attachments": {},
   "cell_type": "markdown",
   "id": "0656c3bc-bc18-4012-95cb-ae624c2b20e1",
   "metadata": {},
   "source": [
    "- 계절, 연 단위의 강우량 변화\n",
    "- 강, 호수, 댐 등의 수위\n",
    "- 호수나 시냇물의 유량\n",
    "- pH, 혼탁도, 오염도 등과 같은 수질"
   ]
  },
  {
   "attachments": {},
   "cell_type": "markdown",
   "id": "0a44fc43-e3cc-44cc-8999-f79434097559",
   "metadata": {},
   "source": [
    "시계열 데이터 특징:\n",
    "- 시간 종속성(Temporal dependency): 일반적인 데이터와 다르게 시계열 데이터는 고려해야 할 X(독립 변수) 시간 경과에 따른 특징이 존재하며, 이를 통해 유용한 정보를 얻을 수 있다. 하지만 이러한 특징이 결측치, 노이즈, 계절성, 추세 및 인과관계 처리와 같은 feature engineering에 어려움을 줄 수도 있다. ([How to handle temporal dependencies in feature engineering](https://www.linkedin.com/advice/1/how-can-you-handle-temporal-dependencies-feature))\n",
    "- 계절성(Seasonality): 계절에 따른 반복성 또는 주기가 존재한다.\n",
    "- 추세(Trend): 특정 지역의 지하수가 점진적으로 고갈되는 것과 같이, 시간 경과에 따른 데이터의 **장기적인** 추세가 존재한다."
   ]
  },
  {
   "cell_type": "markdown",
   "id": "2eaebee3-f570-497c-b5fb-afd5969388be",
   "metadata": {},
   "source": [
    "### 1.2) 공간 데이터(Spatial Data)"
   ]
  },
  {
   "cell_type": "markdown",
   "id": "84279bff-ee77-4d12-97af-4bee0f9e4120",
   "metadata": {},
   "source": [
    "지리적, 공간적 정보를 포함한 데이터. 지구상의 특정한 위치에서 일어나는 현상을 표현하고 분석하는 데에 쓰인다."
   ]
  },
  {
   "cell_type": "markdown",
   "id": "a40edd20-8a8f-46d4-98a1-c1debef64080",
   "metadata": {},
   "source": [
    "- 강, 호수 및 대수층($\\approx$지하수층, 'aquifers' in English)\n",
    "- 각 토지의 쓰임새와 그로 인해 발생하는 주변 수질 또는 수위의 변화\n",
    "- [infrastructure][1]\n",
    "\n",
    "[1]: "
   ]
  },
  {
   "cell_type": "code",
   "execution_count": null,
   "id": "8048af13-48ef-4667-b073-2484261e8db8",
   "metadata": {},
   "outputs": [],
   "source": []
  }
 ],
 "metadata": {
  "kernelspec": {
   "display_name": "Python 3 (ipykernel)",
   "language": "python",
   "name": "python3"
  },
  "language_info": {
   "codemirror_mode": {
    "name": "ipython",
    "version": 3
   },
   "file_extension": ".py",
   "mimetype": "text/x-python",
   "name": "python",
   "nbconvert_exporter": "python",
   "pygments_lexer": "ipython3",
   "version": "3.8.18"
  }
 },
 "nbformat": 4,
 "nbformat_minor": 5
}
